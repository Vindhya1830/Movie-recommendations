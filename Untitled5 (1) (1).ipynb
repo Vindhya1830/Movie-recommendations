{
 "cells": [
  {
   "cell_type": "code",
   "execution_count": null,
   "id": "65b1c065",
   "metadata": {},
   "outputs": [],
   "source": []
  },
  {
   "cell_type": "code",
   "execution_count": null,
   "id": "ae8b6a59",
   "metadata": {},
   "outputs": [],
   "source": []
  },
  {
   "cell_type": "code",
   "execution_count": 26,
   "id": "872a2015",
   "metadata": {},
   "outputs": [
    {
     "name": "stdout",
     "output_type": "stream",
     "text": [
      "\n",
      "Top 5 Recommended Movies:\n",
      "Movie ID: 814, Title: Great Day in Harlem, A (1994), Average Rating: 5.0\n",
      "Movie ID: 1599, Title: Someone Else's America (1995), Average Rating: 5.0\n",
      "Movie ID: 1201, Title: Marlene Dietrich: Shadow and Light (1996) , Average Rating: 5.0\n",
      "Movie ID: 1122, Title: They Made Me a Criminal (1939), Average Rating: 5.0\n",
      "Movie ID: 1653, Title: Entertaining Angels: The Dorothy Day Story (1996), Average Rating: 5.0\n"
     ]
    }
   ],
   "source": [
    "import pandas as pd\n",
    "movies = pd.read_csv(\"C:\\\\Users\\\\ndgow\\\\Downloads\\\\ml-100k\\\\ml-100k\\\\u.item\", sep='|', encoding='latin-1', header=None, names=['movieId', 'title'], usecols=[0, 1])\n",
    "movie_ratings['top_rating'] = movie_ratings['movieId'].apply(lambda x: ratings[ratings['movieId'] == x]['rating'].mean())\n",
    "top_movies = movie_ratings.sort_values(by='average_rating', ascending=False)\n",
    "N = 5\n",
    "top_N_movies = top_movies.head(N)\n",
    "print(f\"\\nTop {N} Recommended Movies:\")\n",
    "for index, row in top_N_movies.iterrows():\n",
    "    print(f\"Movie ID: {row['movieId']}, Title: {row['title']}, Average Rating: {row['top_rating']}\")\n"
   ]
  },
  {
   "cell_type": "code",
   "execution_count": null,
   "id": "8d8240b6",
   "metadata": {},
   "outputs": [],
   "source": []
  },
  {
   "cell_type": "code",
   "execution_count": null,
   "id": "c19dce1f",
   "metadata": {},
   "outputs": [],
   "source": []
  }
 ],
 "metadata": {
  "kernelspec": {
   "display_name": "Python 3 (ipykernel)",
   "language": "python",
   "name": "python3"
  },
  "language_info": {
   "codemirror_mode": {
    "name": "ipython",
    "version": 3
   },
   "file_extension": ".py",
   "mimetype": "text/x-python",
   "name": "python",
   "nbconvert_exporter": "python",
   "pygments_lexer": "ipython3",
   "version": "3.11.4"
  }
 },
 "nbformat": 4,
 "nbformat_minor": 5
}
